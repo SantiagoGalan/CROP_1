{
 "cells": [
  {
   "cell_type": "markdown",
   "id": "fd2fb8e6",
   "metadata": {},
   "source": [
    "Link al google docs con comentarios"
   ]
  },
  {
   "cell_type": "markdown",
   "id": "05f0dbf6",
   "metadata": {},
   "source": [
    "https://docs.google.com/document/d/1X3ShC0dlKh-Qslo3ci98S1LyvEOVfEhNjLCMlfeGFTQ/edit?tab=t.0"
   ]
  }
 ],
 "metadata": {
  "language_info": {
   "name": "python"
  }
 },
 "nbformat": 4,
 "nbformat_minor": 5
}
